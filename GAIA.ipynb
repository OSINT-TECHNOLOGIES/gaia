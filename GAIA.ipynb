{
 "cells": [
  {
   "cell_type": "code",
   "execution_count": null,
   "metadata": {},
   "outputs": [],
   "source": [
    "# NECESSARY IMPORTS\n",
    "\n",
    "import sys\n",
    "sys.path.insert(0, 'modules/')\n",
    "import mercury as mr\n",
    "import ee\n",
    "import geemap.foliumap as geemap\n",
    "import os\n",
    "import datetime\n",
    "import webbrowser\n",
    "import create_ee_creds as cec\n",
    "import txtreading as txtr\n",
    "import landsat_init as l_init\n",
    "import sentinel_init as s_init\n",
    "import modis_init as m_init\n",
    "import othersds_init as o_init\n",
    "from colorama import Fore"
   ]
  },
  {
   "cell_type": "code",
   "execution_count": null,
   "outputs": [],
   "source": [
    "#INTERFACE INIT\n",
    "\n",
    "mr.Markdown(text = '**🌎 GAIA - Geospatial & Aerial Images Analyser [BETA] 🌎**')\n",
    "mr.Markdown(text = '**🌎 This program solution is not final and some details are potentially to be changed 🌎**')\n",
    "mr.Markdown(text = '**🌏 Current version - 0.32b 🌏**')\n",
    "\n",
    "text = 'OSINT-TECHNOLOGIES'\n",
    "text_params = {\n",
    "    'fontsize': 10,\n",
    "    'fontcolor': 'black',\n",
    "    'bold': True,\n",
    "    'padding': '3px',\n",
    "    'background': True,\n",
    "    'bg_color': 'white',\n",
    "    'border_radius': '1px',\n",
    "    'position': 'bottomleft',\n",
    "}\n",
    "\n",
    "sources_list = [\"Google EE\"]\n",
    "control_panel_choice = mr.Select(value=\"Google EE\", choices=sources_list, label=\"Choose the source control panel\")\n",
    "\n",
    "app  = mr.App(title=\"GAIA v0.32b [BETA] 🌐\",\n",
    "              description=\"Open-Source Geospatial & Aerial Images Analyser\",\n",
    "              show_code=False,\n",
    "              show_prompt=False,\n",
    "              continuous_update=True,\n",
    "              static_notebook=False,\n",
    "              show_sidebar=True,\n",
    "              full_screen=True,\n",
    "              allow_download=False)\n",
    "\n",
    "if control_panel_choice.value == \"Google EE\":\n",
    "    ee_user_guide = mr.Button(label=\"How to start Google EE\")\n",
    "    ee_reg = mr.Button(label=\"EE registration\")\n",
    "    ee_service_acc = mr.Button(label=\"Create EE service account\")\n",
    "    save_map_html = mr.Button(label=\"Save current map [HTML]\")\n",
    "    ds_info = mr.Checkbox(value=False, label='Show datasets technical info')\n",
    "    date_one = mr.Text(value=\"2022-01-01\", label=\"Enter start date (format YYYY-MM-DD)\", rows=1)\n",
    "    date_two = mr.Text(value=\"2022-01-02\", label=\"Enter final date (format YYYY-MM-DD)\", rows=1)\n",
    "    max_cloud_covering = mr.Slider(value=80, label='Max cloud cover (%, may affect datasets quality)', min=0, max=100)\n",
    "    datasets_landsat = mr.Checkbox(value=False, label=\"Show Landsat datasets\")\n",
    "    datasets_sentinel = mr.Checkbox(value=False, label=\"Show Sentinel datasets\")\n",
    "    datasets_modis = mr.Checkbox(value=False, label=\"Show MODIS datasets\")\n",
    "    datasets_other = mr.Checkbox(value=False, label='Show other datasets')\n",
    "\n",
    "\n",
    "if ee_reg.clicked:\n",
    "    webbrowser.open_new_tab('https://code.earthengine.google.com/register')\n",
    "\n",
    "if ee_service_acc.clicked:\n",
    "    webbrowser.open_new_tab('https://console.cloud.google.com/iam-admin/serviceaccounts/')\n",
    "\n",
    "if str((cec.service_acc_filename).rstrip()) not in os.listdir():\n",
    "    print(Fore.RED + '[File/directory missing error]. Your EE credentials .JSON file was not found in GAIA directory')\n",
    "    mr.Stop()\n",
    "else:\n",
    "    key_file = (cec.service_acc_filename).rstrip()\n",
    "    service_account = (cec.service_acc_mail).rstrip()\n",
    "    credentials = ee.ServiceAccountCredentials(service_account, key_file)\n",
    "    ee.Initialize(credentials)"
   ],
   "metadata": {
    "collapsed": false
   }
  },
  {
   "cell_type": "code",
   "execution_count": null,
   "outputs": [],
   "source": [
    "#INITIALIZING MAP\n",
    "m = geemap.Map()\n",
    "m.add_text(text, **text_params)\n",
    "\n",
    "#ADDING BASEMAPS\n",
    "m.add_basemap('SATELLITE')\n",
    "m.add_basemap('TERRAIN')\n",
    "m.add_basemap('HYBRID')\n",
    "\n",
    "#INITIALIZING AND PLOTTING DATASETS\n",
    "try:\n",
    "    if datasets_landsat.value:\n",
    "        l_init.landsat_initialization(m, date_one, date_two, max_cloud_covering)\n",
    "\n",
    "    if datasets_sentinel.value:\n",
    "        s_init.sentinel_initialization(m, date_one, date_two, max_cloud_covering)\n",
    "\n",
    "    if datasets_modis.value:\n",
    "        m_init.modis_initialization(m, date_one, date_two)\n",
    "\n",
    "    if datasets_other.value:\n",
    "        o_init.others_initialization(m, date_one, date_two)\n",
    "\n",
    "except ee.EEException as error:\n",
    "    print(Fore.RED + '[Map plotting/initialization error] - {}'.format(str(error)[17:]))\n",
    "    pass\n",
    "\n",
    "\n",
    "mr.Markdown(text = \"#GOOGLE EARTH ENGINE MAP 🌐\")\n",
    "mr.Markdown(text = \"**DATASETS TIME PERIOD: from {} to {}**\".format(date_one.value, date_two.value))\n",
    "\n",
    "if ds_info.value:\n",
    "    txtr.ds_info_read()\n",
    "\n",
    "if ee_user_guide.clicked:\n",
    "    txtr.ee_guide_read()"
   ],
   "metadata": {
    "collapsed": false
   }
  },
  {
   "cell_type": "code",
   "execution_count": null,
   "outputs": [],
   "source": [
    "# CALLING MAP OBJECT\n",
    "\n",
    "m"
   ],
   "metadata": {
    "collapsed": false
   }
  },
  {
   "cell_type": "code",
   "execution_count": null,
   "outputs": [],
   "source": [
    "# POST-PROCESSING FUNCTIONS\n",
    "\n",
    "download_dir = os.path.join(os.path.expanduser('~'), 'Downloads')\n",
    "today = datetime.datetime.today()\n",
    "time = today.strftime(\"%Y%m%d-%H.%M.%S\")\n",
    "timestr = str(time)\n",
    "\n",
    "if save_map_html.clicked:\n",
    "    if not os.path.exists(download_dir):\n",
    "        os.makedirs(download_dir)\n",
    "    html_file = os.path.join(download_dir, 'GAIA-{}.html'.format(timestr))\n",
    "    m.to_html(filename=html_file, title='My Map', width='100%', height='880px')"
   ],
   "metadata": {
    "collapsed": false
   }
  }
 ],
 "metadata": {
  "kernelspec": {
   "display_name": "Python 3 (ipykernel)",
   "language": "python",
   "name": "python3"
  },
  "language_info": {
   "codemirror_mode": {
    "name": "ipython",
    "version": 3
   },
   "file_extension": ".py",
   "mimetype": "text/x-python",
   "name": "python",
   "nbconvert_exporter": "python",
   "pygments_lexer": "ipython3",
   "version": "3.10.0"
  }
 },
 "nbformat": 4,
 "nbformat_minor": 1
}
