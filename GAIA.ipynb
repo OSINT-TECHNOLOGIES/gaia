{
 "cells": [
  {
   "cell_type": "markdown",
   "metadata": {},
   "source": [
    "~ Welcome to GAIA - Geospatial & Aerial Images Analyser [BETA] ~\n",
    "\n",
    "*This program solution is not final and some details are potentially to be changed*\n",
    "\n",
    "*New filters may be added to this program soon or later*\n",
    "\n",
    "~ First steps to start ~\n",
    "\n",
    "1) Open PATH.txt file in the directory of GAIA and past here the path to your folder with images which you want to analyze\n",
    "    Ex: C:\\\\Users\\\\User\\\\Desktop\\\\GAIA\\\\IMAGES\\\\\n",
    "    ! IT IS NECESSARY TO HAVE 2 BACK-SLASHES !\n",
    "\n",
    "2) Start program using one of these ways:\n",
    "    a) use start.bat file (it'll start Jupyter Notebook server on localhost:8888 and program will be opened in your browser)\n",
    "    b) open GAIA.ipynb file in Jupyter Notebook IDE (DataSpell works well and program was tested in it)\n",
    "\n",
    "3) Start the program using \"Run All\" button\n",
    "\n",
    "4) Enter the name of image which you want to analyze\n",
    "\n",
    "5) Get the result!\n",
    "\n",
    "6) If you want to change the way some filter work - go to pre-config cell and change it however you want\n",
    "    (original config file is located in the GAIA folder)\n",
    "\n",
    "~ Included image filters ~\n",
    "\n",
    "1) Gray filter\n",
    "2) BGR filter\n",
    "3) HSV filter\n",
    "4) Blur filter\n",
    "5) Contour filter\n",
    "6) High-pass filter\n",
    "7) Sepia filter\n",
    "8) Denoising filter\n",
    "9) Red, Green and Blue filters\n",
    "10) Clahe filter\n",
    "11) Component connectivity filter\n",
    "12) Saturation inversion filter\n",
    "13) Saturation filter\n",
    "14) Hue filter\n",
    "15) RGB filter\n",
    "16) Cool filter\n",
    "17) LWIR filter\n",
    "18) SWIR filter\n",
    "19) NDVI filter\n",
    "20) Tasseled Cap filter\n",
    "21) PCA filter\n",
    "22) Transmission filter\n",
    "23) Panchromatic filter\n",
    "24) Inversion filter"
   ]
  },
  {
   "cell_type": "markdown",
   "metadata": {},
   "source": [
    "NECESSARY IMPORTS"
   ]
  },
  {
   "cell_type": "code",
   "execution_count": null,
   "metadata": {
    "pycharm": {
     "is_executing": true
    }
   },
   "outputs": [],
   "source": [
    "import cv2\n",
    "import matplotlib as mpl\n",
    "import matplotlib.pyplot as plt\n",
    "import numpy as np"
   ]
  },
  {
   "cell_type": "markdown",
   "metadata": {},
   "source": [
    "IMAGE PATH"
   ]
  },
  {
   "cell_type": "code",
   "execution_count": null,
   "metadata": {},
   "outputs": [],
   "source": [
    "path_file = open('PATH.txt', 'r+')\n",
    "path_folder = path_file.read()\n",
    "image_enter = input('Enter image name: ')\n",
    "image_path = path_folder + image_enter\n",
    "image = cv2.imread(image_path)"
   ]
  },
  {
   "cell_type": "markdown",
   "metadata": {},
   "source": [
    "PRE-CONFIG"
   ]
  },
  {
   "cell_type": "code",
   "execution_count": null,
   "metadata": {},
   "outputs": [],
   "source": [
    "#OUTPUT IMAGE SIZE\n",
    "mpl.rcParams['figure.dpi'] = 500\n",
    "\n",
    "#CONTOURS COLOUR (RGB)\n",
    "R_color = 0\n",
    "G_color = 255\n",
    "B_color = 154\n",
    "\n",
    "#GAUSSIAN BLUR COEFFICIENT\n",
    "GC1 = GC2 = 1\n",
    "\n",
    "#TASSELED CAP COEFFICIENTS\n",
    "coefficients = [[0.3037, 0.2793, 0.4743, 0.5585, 0.5082, 0.1863],\n",
    "                [-0.2848, -0.2435, -0.5436, 0.7243, 0.0840, -0.1800],\n",
    "                [0.1509, 0.1973, 0.3279, 0.3406, -0.7112, -0.4572],\n",
    "                [-0.8242, 0.0849, 0.4393, -0.0580, 0.2012, -0.2774],\n",
    "                [-0.3280, 0.0549, 0.1075, 0.1855, -0.4357, 0.8085],\n",
    "                [0.1084, -0.9022, 0.4119, -0.0575, 0.0029, -0.0251]]\n",
    "\n",
    "#HIGH PASS FILTER KERNEL\n",
    "hp_kernel = np.array([[0.0, -1.0, 0.0],\n",
    "                   [-1.0, 4.0, -1.0],\n",
    "                   [0.0, -1.0, 0.0]])\n",
    "\n",
    "#SEPIA FILTER CONFIG\n",
    "sepia_kernel = np.array([[0.272, 0.534, 0.131],[0.349, 0.686, 0.168],[0.393, 0.769, 0.189]])\n",
    "ddepth = -1\n",
    "\n",
    "#TRANSMISSION FILTER CONFIG\n",
    "kernel_size = 15\n",
    "atmospheric_light = np.percentile(image, 99)\n",
    "transmission = 1 - 0.95 * (image.astype(np.float32) / atmospheric_light)\n",
    "\n",
    "#PANCHROMATIC FILTER KERNEL\n",
    "panchromatic_filter = np.array([[0.5, 1, 0.5],\n",
    "                                [1, 1, 1],\n",
    "                                [0.5, 1, 0.5]])\n",
    "\n",
    "#CLAHE FILTER CONFIG\n",
    "clipLimit = 5.0\n",
    "tileGridSize = (8, 8)\n",
    "\n",
    "#COMPONENT CONNECTIVITY CONFIG\n",
    "thresh = 100\n",
    "maxval = 255\n",
    "thickness = 2\n",
    "connectivity = 8"
   ]
  },
  {
   "cell_type": "markdown",
   "metadata": {},
   "source": [
    "APPLYING RGB FILTER"
   ]
  },
  {
   "cell_type": "code",
   "execution_count": null,
   "metadata": {},
   "outputs": [],
   "source": [
    "image_rgb = cv2.cvtColor(image, cv2.COLOR_BGR2RGB)"
   ]
  },
  {
   "cell_type": "markdown",
   "metadata": {},
   "source": [
    "APPLYING GRAY FILTER"
   ]
  },
  {
   "cell_type": "code",
   "execution_count": null,
   "metadata": {},
   "outputs": [],
   "source": [
    "image_gray = cv2.cvtColor(image, cv2.COLOR_BGR2GRAY)"
   ]
  },
  {
   "cell_type": "markdown",
   "metadata": {},
   "source": [
    "APPLYING HSV FILTER"
   ]
  },
  {
   "cell_type": "code",
   "execution_count": null,
   "metadata": {},
   "outputs": [],
   "source": [
    "image_hsv = cv2.cvtColor(image,cv2.COLOR_BGR2HSV)"
   ]
  },
  {
   "cell_type": "markdown",
   "metadata": {},
   "source": [
    "APPLYING BLURRING FILTER"
   ]
  },
  {
   "cell_type": "code",
   "execution_count": null,
   "metadata": {},
   "outputs": [],
   "source": [
    "new_image = np.zeros(image.shape, dtype='uint8')\n",
    "image_gray_blurred = cv2.GaussianBlur(image_gray, (GC1, GC2), 0)\n",
    "image_gray_blurred_edges = cv2.Canny(image_gray_blurred, 100, 140)"
   ]
  },
  {
   "cell_type": "markdown",
   "metadata": {},
   "source": [
    "APPLYING CONTOUR FILTER (ON BLACK SCREEN)"
   ]
  },
  {
   "cell_type": "code",
   "execution_count": null,
   "metadata": {},
   "outputs": [],
   "source": [
    "contours, hierarchy = cv2.findContours(image_gray_blurred_edges, cv2.RETR_EXTERNAL, cv2.CHAIN_APPROX_NONE)\n",
    "contours, hir = cv2.findContours(image_gray_blurred_edges, cv2.RETR_LIST, cv2.CHAIN_APPROX_NONE)\n",
    "image_contoured = cv2.drawContours(new_image, contours, -1, (R_color, G_color, B_color), 1)"
   ]
  },
  {
   "cell_type": "markdown",
   "metadata": {},
   "source": [
    "APPLYING HIGH-PASS FILTER"
   ]
  },
  {
   "cell_type": "code",
   "execution_count": null,
   "metadata": {},
   "outputs": [],
   "source": [
    "kernel = hp_kernel/(np.sum(hp_kernel) if np.sum(hp_kernel)!=0 else 1)\n",
    "image_hp = cv2.filter2D(image,-1,kernel)"
   ]
  },
  {
   "cell_type": "markdown",
   "metadata": {},
   "source": [
    "APPLYING SEPIA FILTER"
   ]
  },
  {
   "cell_type": "code",
   "execution_count": null,
   "metadata": {},
   "outputs": [],
   "source": [
    "image_sepia = cv2.filter2D(src=image, kernel=sepia_kernel, ddepth=ddepth)"
   ]
  },
  {
   "cell_type": "markdown",
   "metadata": {},
   "source": [
    "APPLYING DENOISING FILTER"
   ]
  },
  {
   "cell_type": "code",
   "execution_count": null,
   "metadata": {},
   "outputs": [],
   "source": [
    "image_denoised = cv2.fastNlMeansDenoisingColored(image,None,20,10,7,21)"
   ]
  },
  {
   "cell_type": "markdown",
   "metadata": {},
   "source": [
    "APPLYING COLOUR FILTERS"
   ]
  },
  {
   "cell_type": "code",
   "execution_count": null,
   "metadata": {},
   "outputs": [],
   "source": [
    "#RED FILTERING\n",
    "image_red = image.copy()\n",
    "image_red[:, :, 0] = 0\n",
    "image_red[:, :, 1] = 0\n",
    "\n",
    "#GREEN FILTERING\n",
    "image_green = image.copy()\n",
    "image_green[:, :, 0] = 0\n",
    "image_green[:, :, 2] = 0\n",
    "\n",
    "#BLUE FILTERING\n",
    "image_blue = image.copy()\n",
    "image_blue[:, :, 1] = 0\n",
    "image_blue[:, :, 2] = 0"
   ]
  },
  {
   "cell_type": "markdown",
   "metadata": {},
   "source": [
    "APPLYING CLAHE FILTER"
   ]
  },
  {
   "cell_type": "code",
   "execution_count": null,
   "metadata": {},
   "outputs": [],
   "source": [
    "clahe = cv2.createCLAHE(clipLimit=clipLimit, tileGridSize=tileGridSize)\n",
    "image_clahe = clahe.apply(image_gray)"
   ]
  },
  {
   "cell_type": "markdown",
   "metadata": {},
   "source": [
    "APPLYING COMPONENT CONNECTIVITY FILTER"
   ]
  },
  {
   "cell_type": "code",
   "execution_count": null,
   "metadata": {},
   "outputs": [],
   "source": [
    "image_ccp = image.copy()\n",
    "_, binarized_img = cv2.threshold(image_gray, thresh=thresh, maxval=maxval, type=cv2.THRESH_BINARY)\n",
    "num_labels, labels, stats, centroids = cv2.connectedComponentsWithStats(binarized_img, connectivity=connectivity)\n",
    "\n",
    "for i in range(1, num_labels):\n",
    "    x, y, w, h, area = stats[i]\n",
    "    rect_color = (0, 255, 0)\n",
    "    image_cc = cv2.rectangle(image_ccp, (x, y), (x + w, y + h), rect_color, thickness=thickness)"
   ]
  },
  {
   "cell_type": "markdown",
   "metadata": {},
   "source": [
    "APPLYING SATURATION INVERSION FILTER"
   ]
  },
  {
   "cell_type": "code",
   "execution_count": null,
   "metadata": {},
   "outputs": [],
   "source": [
    "image_inv_sat = image_hsv.copy()\n",
    "image_inv_sat[:, :, 1] = 255 - image_inv_sat[:, :, 1]\n",
    "image_inv_sat = cv2.cvtColor(image_inv_sat, cv2.COLOR_HSV2BGR)"
   ]
  },
  {
   "cell_type": "markdown",
   "metadata": {},
   "source": [
    "APPLYING SATURATION FILTER"
   ]
  },
  {
   "cell_type": "code",
   "execution_count": null,
   "metadata": {},
   "outputs": [],
   "source": [
    "image_sat = image_hsv.copy()\n",
    "image_sat[:, :, 0] = 0\n",
    "image_sat[:, :, 2] = 255\n",
    "image_sat = cv2.cvtColor(image_sat, cv2.COLOR_HSV2BGR)"
   ]
  },
  {
   "cell_type": "markdown",
   "metadata": {},
   "source": [
    "APPLYING HUE FILTER"
   ]
  },
  {
   "cell_type": "code",
   "execution_count": null,
   "metadata": {},
   "outputs": [],
   "source": [
    "image_hue = image_hsv.copy()\n",
    "image_hue[:, :, 1] = 255\n",
    "image_hue[:, :, 2] = 255\n",
    "image_hue = cv2.cvtColor(image_hue, cv2.COLOR_HSV2BGR)"
   ]
  },
  {
   "cell_type": "markdown",
   "metadata": {},
   "source": [
    "APPLYING RGB FILTER"
   ]
  },
  {
   "cell_type": "code",
   "execution_count": null,
   "metadata": {},
   "outputs": [],
   "source": [
    "rgb_img = image.copy()\n",
    "rgb_img[:, :, 0] = cv2.equalizeHist(image[:, :, 0])\n",
    "rgb_img[:, :, 1] = cv2.equalizeHist(image[:, :, 1])\n",
    "rgb_img[:, :, 2] = cv2.equalizeHist(image[:, :, 2])"
   ]
  },
  {
   "cell_type": "markdown",
   "metadata": {},
   "source": [
    "APPLYING COOL FILTER"
   ]
  },
  {
   "cell_type": "code",
   "execution_count": null,
   "metadata": {},
   "outputs": [],
   "source": [
    "img_cool = cv2.applyColorMap(image, cv2.COLORMAP_COOL)"
   ]
  },
  {
   "cell_type": "markdown",
   "metadata": {},
   "source": [
    "APPLYING LWIR FILTER"
   ]
  },
  {
   "cell_type": "code",
   "execution_count": null,
   "metadata": {},
   "outputs": [],
   "source": [
    "to_spectral = image_rgb.copy()\n",
    "image_lwir = to_spectral[:, :, 2]"
   ]
  },
  {
   "cell_type": "markdown",
   "metadata": {},
   "source": [
    "APPLYING SWIR FILTER"
   ]
  },
  {
   "cell_type": "code",
   "execution_count": null,
   "metadata": {},
   "outputs": [],
   "source": [
    "image_swir = to_spectral[:, :, 1]"
   ]
  },
  {
   "cell_type": "markdown",
   "metadata": {},
   "source": [
    "APPLYING NDVI FILTER"
   ]
  },
  {
   "cell_type": "code",
   "execution_count": null,
   "metadata": {},
   "outputs": [],
   "source": [
    "to_ndvi = image_rgb.copy()\n",
    "\n",
    "r, g, b = cv2.split(to_ndvi)\n",
    "\n",
    "sum_img = g + r\n",
    "mask = sum_img == 0\n",
    "image_ndvi = np.zeros_like(g, dtype=np.float32)\n",
    "image_ndvi[~mask] = (g - r)[~mask] / sum_img[~mask]"
   ]
  },
  {
   "cell_type": "markdown",
   "metadata": {},
   "source": [
    "APPLYING TASSELED CAP TRANSFORMATION"
   ]
  },
  {
   "cell_type": "code",
   "execution_count": null,
   "metadata": {},
   "outputs": [],
   "source": [
    "red = image[:, :, 0]\n",
    "green = image[:, :, 1]\n",
    "blue = image[:, :, 2]\n",
    "\n",
    "tc_1 = coefficients[0][0] * blue + coefficients[0][1] * green + coefficients[0][2] * red + \\\n",
    "       coefficients[0][3] * 0 + coefficients[0][4] * 0 + coefficients[0][5] * 0\n",
    "\n",
    "tc_2 = coefficients[1][0] * blue + coefficients[1][1] * green + coefficients[1][2] * red + \\\n",
    "       coefficients[1][3] * 0 + coefficients[1][4] * 0 + coefficients[1][5] * 0\n",
    "\n",
    "tc_3 = coefficients[2][0] * blue + coefficients[2][1] * green + coefficients[2][2] * red + \\\n",
    "       coefficients[2][3] * 0 + coefficients[2][4] * 0 + coefficients[2][5] * 0\n",
    "\n",
    "tc_4 = coefficients[3][0] * blue + coefficients[3][1] * green + coefficients[3][2] * red + \\\n",
    "       coefficients[3][3] * 0 + coefficients[3][4] * 0 + coefficients[3][5] * 0\n",
    "\n",
    "tc_5 = coefficients[4][0] * blue + coefficients[4][1] * green + coefficients[4][2] * red + \\\n",
    "       coefficients[4][3] * 0 + coefficients[4][4] * 0 + coefficients[4][5] * 0\n",
    "\n",
    "tc_6 = coefficients[5][0] * blue + coefficients[5][1] * green + coefficients[5][2] * red + \\\n",
    "       coefficients[5][3] * 0 + coefficients[5][4] * 0 + coefficients[5][5] * 0\n",
    "\n",
    "tc_1_norm = (tc_1 - tc_1.min()) / (tc_1.max() - tc_1.min())\n",
    "tc_2_norm = (tc_2 - tc_2.min()) / (tc_2.max() - tc_2.min())\n",
    "tc_3_norm = (tc_3 - tc_3.min()) / (tc_3.max() - tc_3.min())\n",
    "tc_4_norm = (tc_4 - tc_4.min()) / (tc_4.max() - tc_4.min())\n",
    "tc_5_norm = (tc_5 - tc_5.min()) / (tc_5.max() - tc_5.min())\n",
    "tc_6_norm = (tc_6 - tc_6.min()) / (tc_6.max() - tc_6.min())"
   ]
  },
  {
   "cell_type": "markdown",
   "metadata": {},
   "source": [
    "APPLYING PCA FILTER"
   ]
  },
  {
   "cell_type": "code",
   "execution_count": null,
   "metadata": {},
   "outputs": [],
   "source": [
    "to_pca = image_rgb.copy()\n",
    "pixels = to_pca.reshape((-1, 3))\n",
    "covariance = np.cov(pixels.T)\n",
    "eigenvalues, eigenvectors = np.linalg.eig(covariance)\n",
    "sort_indices = eigenvalues.argsort()[::-1]\n",
    "eigenvalues = eigenvalues[sort_indices]\n",
    "eigenvectors = eigenvectors[:, sort_indices]\n",
    "first_pc = eigenvectors[:, 0]\n",
    "second_pc = eigenvectors[:, 1]\n",
    "projection = np.dot(pixels, eigenvectors)\n",
    "channel1 = projection[:, 0].reshape(to_pca.shape[0], to_pca.shape[1])\n",
    "channel2 = projection[:, 1].reshape(to_pca.shape[0], to_pca.shape[1])"
   ]
  },
  {
   "cell_type": "markdown",
   "metadata": {},
   "source": [
    "APPLYING TRANSMISSION FILTER"
   ]
  },
  {
   "cell_type": "code",
   "execution_count": null,
   "metadata": {},
   "outputs": [],
   "source": [
    "if image.dtype != np.uint8:\n",
    "    image = image.astype(np.uint8)\n",
    "if image.ndim == 3 and image.shape[-1] not in [1, 3, 4]:\n",
    "    image = cv2.cvtColor(image, cv2.COLOR_BGR2GRAY)\n",
    "\n",
    "transmission = (cv2.medianBlur((255*transmission).astype(np.uint8), kernel_size)).astype(np.float32) / 255"
   ]
  },
  {
   "cell_type": "markdown",
   "metadata": {},
   "source": [
    "APPLYING PANCHROMATIC FILTER"
   ]
  },
  {
   "cell_type": "code",
   "execution_count": null,
   "metadata": {},
   "outputs": [],
   "source": [
    "filtered_img = cv2.filter2D(image, -1, panchromatic_filter)"
   ]
  },
  {
   "cell_type": "markdown",
   "metadata": {},
   "source": [
    "APPLYING INVERSION FILTER"
   ]
  },
  {
   "cell_type": "code",
   "execution_count": null,
   "metadata": {},
   "outputs": [],
   "source": [
    "image_inv = cv2.bitwise_not(image)"
   ]
  },
  {
   "cell_type": "markdown",
   "metadata": {},
   "source": []
  },
  {
   "cell_type": "markdown",
   "metadata": {},
   "source": [
    "SHOW ORIGINAL IMAGE"
   ]
  },
  {
   "cell_type": "code",
   "execution_count": null,
   "metadata": {},
   "outputs": [],
   "source": [
    "plt.imshow(image_rgb)\n",
    "plt.title('ORIGINAL IMAGE')\n",
    "plt.show()"
   ]
  },
  {
   "cell_type": "markdown",
   "metadata": {},
   "source": [
    "SHOW IMAGE IN RGB"
   ]
  },
  {
   "cell_type": "code",
   "execution_count": null,
   "metadata": {},
   "outputs": [],
   "source": [
    "plt.imshow(image)\n",
    "plt.title('BGR FILTER')\n",
    "plt.show()"
   ]
  },
  {
   "cell_type": "markdown",
   "metadata": {},
   "source": [
    "SHOW GRAY IMAGE"
   ]
  },
  {
   "cell_type": "code",
   "execution_count": null,
   "metadata": {},
   "outputs": [],
   "source": [
    "plt.imshow(image_gray)\n",
    "plt.title('GRAY FILTER')\n",
    "plt.show()"
   ]
  },
  {
   "cell_type": "markdown",
   "metadata": {},
   "source": [
    "SHOW IMAGE IN HSV"
   ]
  },
  {
   "cell_type": "code",
   "execution_count": null,
   "metadata": {},
   "outputs": [],
   "source": [
    "plt.imshow(image_hsv)\n",
    "plt.title('HSV FILTER')\n",
    "plt.show()"
   ]
  },
  {
   "cell_type": "markdown",
   "metadata": {},
   "source": [
    "SHOW CONTOURED IMAGE ON BLACK SCREEN"
   ]
  },
  {
   "cell_type": "code",
   "execution_count": null,
   "metadata": {},
   "outputs": [],
   "source": [
    "plt.imshow(image_contoured)\n",
    "plt.title('CONTOURING')\n",
    "plt.show()"
   ]
  },
  {
   "cell_type": "markdown",
   "metadata": {},
   "source": [
    "SHOW HIGH PASS FILTERED BLACK SCREEN IMAGE"
   ]
  },
  {
   "cell_type": "code",
   "execution_count": null,
   "metadata": {},
   "outputs": [],
   "source": [
    "plt.imshow(image_hp)\n",
    "plt.title('HIGH-PASS FILTER')\n",
    "plt.show()"
   ]
  },
  {
   "cell_type": "markdown",
   "metadata": {},
   "source": [
    "SHOW SEPIA FILTERED IMAGE"
   ]
  },
  {
   "cell_type": "code",
   "execution_count": null,
   "metadata": {},
   "outputs": [],
   "source": [
    "plt.imshow(image_sepia, cmap=\"gray\")\n",
    "plt.title('SEPIA FILTER')\n",
    "plt.show()"
   ]
  },
  {
   "cell_type": "markdown",
   "metadata": {},
   "source": [
    "SHOW DENOISED IMAGE"
   ]
  },
  {
   "cell_type": "code",
   "execution_count": null,
   "metadata": {},
   "outputs": [],
   "source": [
    "plt.imshow(image_denoised)\n",
    "plt.title('DENOISING FILTER')\n",
    "plt.show()"
   ]
  },
  {
   "cell_type": "markdown",
   "metadata": {},
   "source": [
    "SHOW RED-FILTERED IMAGE"
   ]
  },
  {
   "cell_type": "code",
   "execution_count": null,
   "metadata": {},
   "outputs": [],
   "source": [
    "plt.imshow(cv2.cvtColor(image_red, cv2.COLOR_BGR2RGB))\n",
    "plt.title('RED FILTER')\n",
    "plt.show()"
   ]
  },
  {
   "cell_type": "markdown",
   "metadata": {},
   "source": [
    "SHOW GREEN-FILTERED IMAGE"
   ]
  },
  {
   "cell_type": "code",
   "execution_count": null,
   "metadata": {},
   "outputs": [],
   "source": [
    "plt.imshow(cv2.cvtColor(image_green, cv2.COLOR_BGR2RGB))\n",
    "plt.title('GREEN FILTER')\n",
    "plt.show()"
   ]
  },
  {
   "cell_type": "markdown",
   "metadata": {},
   "source": [
    "SHOW BLUE-FILTERED IMAGE"
   ]
  },
  {
   "cell_type": "code",
   "execution_count": null,
   "metadata": {},
   "outputs": [],
   "source": [
    "plt.imshow(cv2.cvtColor(image_blue, cv2.COLOR_BGR2RGB))\n",
    "plt.title('BLUE FILTER')\n",
    "plt.show()"
   ]
  },
  {
   "cell_type": "markdown",
   "metadata": {},
   "source": [
    "SHOW SATURATION-FILTERED IMAGE"
   ]
  },
  {
   "cell_type": "code",
   "execution_count": null,
   "metadata": {},
   "outputs": [],
   "source": [
    "plt.imshow(cv2.cvtColor(image_sat, cv2.COLOR_BGR2RGB))\n",
    "plt.title('SATURATION FILTER')\n",
    "plt.show()"
   ]
  },
  {
   "cell_type": "markdown",
   "metadata": {},
   "source": [
    "SHOW HUE-FILTERED IMAGE"
   ]
  },
  {
   "cell_type": "code",
   "execution_count": null,
   "metadata": {},
   "outputs": [],
   "source": [
    "plt.imshow(cv2.cvtColor(image_hue, cv2.COLOR_BGR2RGB))\n",
    "plt.title('HUE FILTER')\n",
    "plt.show()"
   ]
  },
  {
   "cell_type": "markdown",
   "metadata": {},
   "source": [
    "SHOW INVERSION-FILTERED IMAGE"
   ]
  },
  {
   "cell_type": "code",
   "execution_count": null,
   "metadata": {},
   "outputs": [],
   "source": [
    "plt.imshow(cv2.cvtColor(image_inv, cv2.COLOR_BGR2RGB))\n",
    "plt.title('INVERSION FILTER')\n",
    "plt.show()"
   ]
  },
  {
   "cell_type": "markdown",
   "metadata": {},
   "source": [
    "SHOW RGB IMAGE"
   ]
  },
  {
   "cell_type": "code",
   "execution_count": null,
   "metadata": {},
   "outputs": [],
   "source": [
    "plt.imshow(cv2.cvtColor(rgb_img, cv2.COLOR_BGR2RGB))\n",
    "plt.title('RGB FILTER')\n",
    "plt.show()"
   ]
  },
  {
   "cell_type": "markdown",
   "metadata": {},
   "source": [
    "SHOW SATURATION INVERSION FILTERED IMAGE"
   ]
  },
  {
   "cell_type": "code",
   "execution_count": null,
   "metadata": {},
   "outputs": [],
   "source": [
    "plt.imshow(cv2.cvtColor(image_inv_sat, cv2.COLOR_BGR2RGB))\n",
    "plt.title('SATURATION INVERSION FILTER')\n",
    "plt.show()"
   ]
  },
  {
   "cell_type": "markdown",
   "metadata": {},
   "source": [
    "SHOW CLAHE-FILTERED IMAGE"
   ]
  },
  {
   "cell_type": "code",
   "execution_count": null,
   "metadata": {},
   "outputs": [],
   "source": [
    "plt.imshow(cv2.cvtColor(image_clahe, cv2.COLOR_GRAY2RGB))\n",
    "plt.title('CLAHE FILTER')\n",
    "plt.show()"
   ]
  },
  {
   "cell_type": "markdown",
   "metadata": {},
   "source": [
    "SHOW COMPONENT CONNECTIVITY ON ORIGINAL IMAGE"
   ]
  },
  {
   "cell_type": "code",
   "execution_count": null,
   "metadata": {},
   "outputs": [],
   "source": [
    "plt.imshow(cv2.cvtColor(image_cc, cv2.COLOR_BGR2RGB))\n",
    "plt.title('COMPONENT CONNECTIVITY FILTER (ORIGINAL IMAGE)')\n",
    "plt.show()"
   ]
  },
  {
   "cell_type": "markdown",
   "metadata": {},
   "source": [
    "SHOW COMPONENT CONNECTIVITY ON MONOTONOUS BACKGROUND"
   ]
  },
  {
   "cell_type": "code",
   "execution_count": null,
   "metadata": {},
   "outputs": [],
   "source": [
    "plt.imshow(labels, cmap='jet')\n",
    "plt.title('COMPONENT CONNECTIVITY FILTER (MONOTONOUS BACKGROUND)')\n",
    "plt.show()"
   ]
  },
  {
   "cell_type": "markdown",
   "metadata": {},
   "source": [
    "SHOW COOL FILTERED IMAGE"
   ]
  },
  {
   "cell_type": "code",
   "execution_count": null,
   "metadata": {},
   "outputs": [],
   "source": [
    "plt.imshow(img_cool)\n",
    "plt.title('COOL FILTER')\n",
    "plt.show()"
   ]
  },
  {
   "cell_type": "markdown",
   "metadata": {},
   "source": [
    "SHOW NDVI FILTERED IMAGE"
   ]
  },
  {
   "cell_type": "code",
   "execution_count": null,
   "metadata": {},
   "outputs": [],
   "source": [
    "plt.imshow(image_ndvi, cmap='jet')\n",
    "plt.title('NDVI FILTER')\n",
    "plt.show()"
   ]
  },
  {
   "cell_type": "markdown",
   "metadata": {},
   "source": [
    "SHOW SWIR FILTERED IMAGE"
   ]
  },
  {
   "cell_type": "code",
   "execution_count": null,
   "metadata": {},
   "outputs": [],
   "source": [
    "plt.imshow(image_swir) #cmap='gray'\n",
    "plt.title('SWIR FILTER')\n",
    "plt.show()"
   ]
  },
  {
   "cell_type": "markdown",
   "metadata": {},
   "source": [
    "SHOW LWIR FILTERED IMAGE"
   ]
  },
  {
   "cell_type": "code",
   "execution_count": null,
   "metadata": {},
   "outputs": [],
   "source": [
    "plt.imshow(image_lwir)  #cmap gray\n",
    "plt.title('LWIR FILTER')\n",
    "plt.show()"
   ]
  },
  {
   "cell_type": "markdown",
   "metadata": {},
   "source": [
    "SHOW PCA FILTERED IMAGE"
   ]
  },
  {
   "cell_type": "code",
   "execution_count": null,
   "metadata": {},
   "outputs": [],
   "source": [
    "plt.imshow(channel1) #cmap='gray'\n",
    "plt.title('PCA FILTER')\n",
    "plt.show()"
   ]
  },
  {
   "cell_type": "markdown",
   "metadata": {},
   "source": [
    "SHOW PANCHROMATIC FILTERED IMAGE"
   ]
  },
  {
   "cell_type": "code",
   "execution_count": null,
   "metadata": {},
   "outputs": [],
   "source": [
    "plt.imshow(filtered_img)\n",
    "plt.title('PANCHROMATIC FILTER')\n",
    "plt.show()"
   ]
  },
  {
   "cell_type": "markdown",
   "metadata": {},
   "source": [
    "SHOW TRANSMISSION FILTERED IMAGE"
   ]
  },
  {
   "cell_type": "code",
   "execution_count": null,
   "metadata": {},
   "outputs": [],
   "source": [
    "plt.imshow(transmission)\n",
    "plt.title('TRANSMISSION FILTER')\n",
    "plt.show()"
   ]
  },
  {
   "cell_type": "markdown",
   "metadata": {},
   "source": [
    "SHOW TASSELED CAP FILTERED IMAGE"
   ]
  },
  {
   "cell_type": "code",
   "execution_count": null,
   "metadata": {},
   "outputs": [],
   "source": [
    "plt.imshow(tc_1_norm)\n",
    "plt.title('TASSELED CAP FILTER (1)')\n",
    "plt.show()"
   ]
  },
  {
   "cell_type": "code",
   "execution_count": null,
   "metadata": {},
   "outputs": [],
   "source": [
    "plt.imshow(tc_2_norm)\n",
    "plt.title('TASSELED CAP FILTER (2)')\n",
    "plt.show()"
   ]
  },
  {
   "cell_type": "code",
   "execution_count": null,
   "metadata": {},
   "outputs": [],
   "source": [
    "plt.imshow(tc_3_norm)\n",
    "plt.title('TASSELED CAP FILTER (3)')\n",
    "plt.show()"
   ]
  },
  {
   "cell_type": "code",
   "execution_count": null,
   "metadata": {},
   "outputs": [],
   "source": [
    "plt.imshow(tc_4_norm)\n",
    "plt.title('TASSELED CAP FILTER (4)')\n",
    "plt.show()"
   ]
  },
  {
   "cell_type": "code",
   "execution_count": null,
   "metadata": {},
   "outputs": [],
   "source": [
    "plt.imshow(tc_5_norm)\n",
    "plt.title('TASSELED CAP FILTER (5)')\n",
    "plt.show()"
   ]
  },
  {
   "cell_type": "code",
   "execution_count": null,
   "metadata": {},
   "outputs": [],
   "source": [
    "plt.imshow(tc_6_norm)\n",
    "plt.title('TASSELED CAP FILTER (6)')\n",
    "plt.show()"
   ]
  }
 ],
 "metadata": {
  "kernelspec": {
   "display_name": "Python 3 (ipykernel)",
   "language": "python",
   "name": "python3"
  },
  "language_info": {
   "codemirror_mode": {
    "name": "ipython",
    "version": 3
   },
   "file_extension": ".py",
   "mimetype": "text/x-python",
   "name": "python",
   "nbconvert_exporter": "python",
   "pygments_lexer": "ipython3",
   "version": "3.10.0"
  }
 },
 "nbformat": 4,
 "nbformat_minor": 1
}
