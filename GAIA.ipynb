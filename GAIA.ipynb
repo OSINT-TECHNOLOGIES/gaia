{
 "cells": [
  {
   "cell_type": "code",
   "execution_count": null,
   "outputs": [],
   "source": [
    "import cv2\n",
    "import matplotlib as mpl\n",
    "import matplotlib.pyplot as plt\n",
    "import numpy as np\n",
    "import mercury as mr"
   ],
   "metadata": {
    "collapsed": false
   }
  },
  {
   "cell_type": "code",
   "execution_count": null,
   "outputs": [],
   "source": [
    "#CONTOURS COLOUR (RGB)\n",
    "R_color = 0\n",
    "G_color = 255\n",
    "B_color = 154\n",
    "\n",
    "#GAUSSIAN BLUR COEFFICIENT\n",
    "GC1 = GC2 = 1\n",
    "\n",
    "#TASSELED CAP COEFFICIENTS\n",
    "coefficients = [[0.3037, 0.2793, 0.4743, 0.5585, 0.5082, 0.1863],\n",
    "                [-0.2848, -0.2435, -0.5436, 0.7243, 0.0840, -0.1800],\n",
    "                [0.1509, 0.1973, 0.3279, 0.3406, -0.7112, -0.4572],\n",
    "                [-0.8242, 0.0849, 0.4393, -0.0580, 0.2012, -0.2774],\n",
    "                [-0.3280, 0.0549, 0.1075, 0.1855, -0.4357, 0.8085],\n",
    "                [0.1084, -0.9022, 0.4119, -0.0575, 0.0029, -0.0251]]\n",
    "\n",
    "#HIGH PASS FILTER KERNEL\n",
    "hp_kernel = np.array([[0.0, -1.0, 0.0],\n",
    "                      [-1.0, 4.0, -1.0],\n",
    "                      [0.0, -1.0, 0.0]])\n",
    "\n",
    "#SEPIA FILTER CONFIG\n",
    "sepia_kernel = np.array([[0.272, 0.534, 0.131],[0.349, 0.686, 0.168],[0.393, 0.769, 0.189]])\n",
    "ddepth = -1\n",
    "\n",
    "#PANCHROMATIC FILTER KERNEL\n",
    "panchromatic_filter = np.array([[0.5, 1, 0.5],\n",
    "                                [1, 1, 1],\n",
    "                                [0.5, 1, 0.5]])\n",
    "\n",
    "#CLAHE FILTER CONFIG\n",
    "clipLimit = 5.0\n",
    "tileGridSize = (8, 8)\n",
    "\n",
    "#COMPONENT CONNECTIVITY CONFIG\n",
    "thresh = 100\n",
    "maxval = 255\n",
    "thickness = 2\n",
    "connectivity = 8\n",
    "\n",
    "#TRANSMISSION FILTER KERNEL CONFIG\n",
    "kernel_size = 15"
   ],
   "metadata": {
    "collapsed": false
   }
  },
  {
   "cell_type": "code",
   "execution_count": null,
   "outputs": [],
   "source": [
    "app = mr.App(title=\"GAIA v0.2b [BETA]\",\n",
    "             description=\"Open-Source Geospatial & Aerial Analysis\",\n",
    "             show_code=False,\n",
    "             show_prompt=False,\n",
    "             continuous_update=True,\n",
    "             static_notebook=False,\n",
    "             show_sidebar=True,\n",
    "             full_screen=True,\n",
    "             allow_download=True)\n",
    "\n",
    "mpl.rcParams['figure.dpi'] = 400"
   ],
   "metadata": {
    "collapsed": false
   }
  },
  {
   "cell_type": "code",
   "execution_count": null,
   "outputs": [],
   "source": [
    "mr.Md('''\n",
    "\n",
    "Welcome to GAIA - Geospatial & Aerial Images Analyser [BETA]\n",
    "\n",
    "[!] This program solution is not final and some details are potentially to be changed [!]\\n\n",
    "[!] New filters may be added to this program soon or later [!]\\n\n",
    "[!] Current version - 0.2b [!]\n",
    "\n",
    "There's only 2 steps to start:\\n\n",
    "1) Upload an image using the context menu on the left\\n\n",
    "2) Select filters from the menu on the left\\n\n",
    "Then you get the result. You can select multiple filters or cancel your selection and everything will be auto-updated\\n\n",
    "''')\n",
    "uploaded = mr.File(label=\"File upload\", max_file_size=\"10MB\")\n",
    "sidebar_filters = mr.Note(text=\" \"*25 + \"FILTERS LIST\")\n",
    "print(f\"Uploaded file name: {uploaded.filename}\")\n",
    "print(f\"Uploaded file path: {uploaded.filepath}\")\n",
    "\n",
    "image = cv2.imread(uploaded.filepath)\n",
    "\n",
    "if image is not None:\n",
    "    plt.imshow(image)\n",
    "    plt.title('UPLOADED IMAGE')\n",
    "    plt.show()\n",
    "\n",
    "    image_rgb = cv2.cvtColor(image, cv2.COLOR_BGR2RGB)\n",
    "    image_gray = cv2.cvtColor(image, cv2.COLOR_BGR2GRAY)\n",
    "    image_hsv = cv2.cvtColor(image,cv2.COLOR_BGR2HSV)\n",
    "\n",
    "    new_image = np.zeros(image.shape, dtype='uint8')\n",
    "    image_gray_blurred = cv2.GaussianBlur(image_gray, (GC1, GC2), 0)\n",
    "    image_gray_blurred_edges = cv2.Canny(image_gray_blurred, 100, 140)\n",
    "\n",
    "    contours, hierarchy = cv2.findContours(image_gray_blurred_edges, cv2.RETR_EXTERNAL, cv2.CHAIN_APPROX_NONE)\n",
    "    contours, hir = cv2.findContours(image_gray_blurred_edges, cv2.RETR_LIST, cv2.CHAIN_APPROX_NONE)\n",
    "    image_contoured = cv2.drawContours(new_image, contours, -1, (R_color, G_color, B_color), 1)\n",
    "\n",
    "    kernel = hp_kernel/(np.sum(hp_kernel) if np.sum(hp_kernel)!=0 else 1)\n",
    "    image_hp = cv2.filter2D(image,-1,kernel)\n",
    "\n",
    "    image_sepia = cv2.filter2D(src=image, kernel=sepia_kernel, ddepth=ddepth)\n",
    "\n",
    "    image_denoised = cv2.fastNlMeansDenoisingColored(image,None,20,10,7,21)\n",
    "\n",
    "    image_red = image.copy()\n",
    "    image_red[:, :, 0] = 0\n",
    "    image_red[:, :, 1] = 0\n",
    "\n",
    "    image_green = image.copy()\n",
    "    image_green[:, :, 0] = 0\n",
    "    image_green[:, :, 2] = 0\n",
    "\n",
    "    image_blue = image.copy()\n",
    "    image_blue[:, :, 1] = 0\n",
    "    image_blue[:, :, 2] = 0\n",
    "\n",
    "    clahe = cv2.createCLAHE(clipLimit=clipLimit, tileGridSize=tileGridSize)\n",
    "    image_clahe = clahe.apply(image_gray)\n",
    "\n",
    "    image_ccp = image.copy()\n",
    "    _, binarized_img = cv2.threshold(image_gray, thresh=thresh, maxval=maxval, type=cv2.THRESH_BINARY)\n",
    "    num_labels, labels, stats, centroids = cv2.connectedComponentsWithStats(binarized_img, connectivity=connectivity)\n",
    "\n",
    "    for i in range(1, num_labels):\n",
    "        x, y, w, h, area = stats[i]\n",
    "        rect_color = (0, 255, 0)\n",
    "        image_cc = cv2.rectangle(image_ccp, (x, y), (x + w, y + h), rect_color, thickness=thickness)\n",
    "\n",
    "    image_inv_sat = image_hsv.copy()\n",
    "    image_inv_sat[:, :, 1] = 255 - image_inv_sat[:, :, 1]\n",
    "    image_inv_sat = cv2.cvtColor(image_inv_sat, cv2.COLOR_HSV2BGR)\n",
    "\n",
    "    image_sat = image_hsv.copy()\n",
    "    image_sat[:, :, 0] = 0\n",
    "    image_sat[:, :, 2] = 255\n",
    "    image_sat = cv2.cvtColor(image_sat, cv2.COLOR_HSV2BGR)\n",
    "\n",
    "    image_hue = image_hsv.copy()\n",
    "    image_hue[:, :, 1] = 255\n",
    "    image_hue[:, :, 2] = 255\n",
    "    image_hue = cv2.cvtColor(image_hue, cv2.COLOR_HSV2BGR)\n",
    "\n",
    "    rgb_img = image.copy()\n",
    "    rgb_img[:, :, 0] = cv2.equalizeHist(image[:, :, 0])\n",
    "    rgb_img[:, :, 1] = cv2.equalizeHist(image[:, :, 1])\n",
    "    rgb_img[:, :, 2] = cv2.equalizeHist(image[:, :, 2])\n",
    "\n",
    "    img_cool = cv2.applyColorMap(image, cv2.COLORMAP_COOL)\n",
    "\n",
    "    to_spectral = image_rgb.copy()\n",
    "    image_lwir = to_spectral[:, :, 2]\n",
    "\n",
    "    image_swir = to_spectral[:, :, 1]\n",
    "\n",
    "    to_ndvi = image_rgb.copy()\n",
    "    r, g, b = cv2.split(to_ndvi)\n",
    "    sum_img = g + r\n",
    "    mask = sum_img == 0\n",
    "    image_ndvi = np.zeros_like(g, dtype=np.float32)\n",
    "    image_ndvi[~mask] = (g - r)[~mask] / sum_img[~mask]\n",
    "\n",
    "    red = image[:, :, 0]\n",
    "    green = image[:, :, 1]\n",
    "    blue = image[:, :, 2]\n",
    "\n",
    "    tc_1 = coefficients[1][0] * blue + coefficients[1][1] * green + coefficients[1][2] * red + \\\n",
    "           coefficients[1][3] * 0 + coefficients[1][4] * 0 + coefficients[1][5] * 0\n",
    "\n",
    "    tc_2 = coefficients[2][0] * blue + coefficients[2][1] * green + coefficients[2][2] * red + \\\n",
    "           coefficients[2][3] * 0 + coefficients[2][4] * 0 + coefficients[2][5] * 0\n",
    "\n",
    "    tc_3 = coefficients[4][0] * blue + coefficients[4][1] * green + coefficients[4][2] * red + \\\n",
    "           coefficients[4][3] * 0 + coefficients[4][4] * 0 + coefficients[4][5] * 0\n",
    "\n",
    "    tc_4 = coefficients[5][0] * blue + coefficients[5][1] * green + coefficients[5][2] * red + \\\n",
    "           coefficients[5][3] * 0 + coefficients[5][4] * 0 + coefficients[5][5] * 0\n",
    "\n",
    "    tc_1_norm = (tc_1 - tc_1.min()) / (tc_1.max() - tc_1.min())\n",
    "    tc_2_norm = (tc_2 - tc_2.min()) / (tc_2.max() - tc_2.min())\n",
    "    tc_3_norm = (tc_3 - tc_3.min()) / (tc_3.max() - tc_3.min())\n",
    "    tc_4_norm = (tc_4 - tc_4.min()) / (tc_4.max() - tc_4.min())\n",
    "\n",
    "    atmospheric_light = np.percentile(image, 99)\n",
    "    transmission = 1 - 0.95 * (image.astype(np.float32) / atmospheric_light)\n",
    "\n",
    "    if image.dtype != np.uint8:\n",
    "        image = image.astype(np.uint8)\n",
    "    if image.ndim == 3 and image.shape[-1] not in [1, 3, 4]:\n",
    "        image = cv2.cvtColor(image, cv2.COLOR_BGR2GRAY)\n",
    "\n",
    "    transmission = (cv2.medianBlur((255*transmission).astype(np.uint8), kernel_size)).astype(np.float32) / 255\n",
    "\n",
    "    filtered_img = cv2.filter2D(image, -1, panchromatic_filter)\n",
    "\n",
    "    image_inv = cv2.bitwise_not(image)\n",
    "\n",
    "    image_laplacian = cv2.Laplacian(image_gray, cv2.CV_64F)\n",
    "    image_laplacian = np.uint8(np.absolute(image_laplacian))\n",
    "\n",
    "    sobelx = cv2.Sobel(image,cv2.CV_64F,1,0,ksize=5)\n",
    "    sobely = cv2.Sobel(image,cv2.CV_64F,0,1,ksize=5)\n",
    "    sobel = sobelx + sobely"
   ],
   "metadata": {
    "collapsed": false
   }
  },
  {
   "cell_type": "code",
   "execution_count": null,
   "outputs": [],
   "source": [
    "def bgr_filter(image):\n",
    "    plt.imshow(image)\n",
    "    plt.title('BGR FILTER')\n",
    "    plt.show()"
   ],
   "metadata": {
    "collapsed": false
   }
  },
  {
   "cell_type": "code",
   "execution_count": null,
   "metadata": {},
   "outputs": [],
   "source": [
    "def gray_filter(image_gray):\n",
    "    plt.imshow(image_gray)\n",
    "    plt.title('GRAY FILTER')\n",
    "    plt.show()"
   ]
  },
  {
   "cell_type": "code",
   "execution_count": null,
   "metadata": {},
   "outputs": [],
   "source": [
    "def hsv_filter(image_hsv):\n",
    "    plt.imshow(image_hsv)\n",
    "    plt.title('HSV FILTER')\n",
    "    plt.show()"
   ]
  },
  {
   "cell_type": "code",
   "execution_count": null,
   "metadata": {},
   "outputs": [],
   "source": [
    "def contour_image(image_contoured):\n",
    "    plt.imshow(image_contoured)\n",
    "    plt.title('CONTOURING')\n",
    "    plt.show()"
   ]
  },
  {
   "cell_type": "code",
   "execution_count": null,
   "metadata": {},
   "outputs": [],
   "source": [
    "def hp_image(image_hp):\n",
    "    plt.imshow(image_hp)\n",
    "    plt.title('HIGH-PASS FILTER')\n",
    "    plt.show()"
   ]
  },
  {
   "cell_type": "code",
   "execution_count": null,
   "metadata": {},
   "outputs": [],
   "source": [
    "def sepia_image(image_sepia):\n",
    "    plt.imshow(image_sepia, cmap=\"gray\")\n",
    "    plt.title('SEPIA FILTER')\n",
    "    plt.show()"
   ]
  },
  {
   "cell_type": "code",
   "execution_count": null,
   "metadata": {},
   "outputs": [],
   "source": [
    "def denoised_image(image_denoised):\n",
    "    plt.imshow(image_denoised)\n",
    "    plt.title('DENOISING FILTER')\n",
    "    plt.show()"
   ]
  },
  {
   "cell_type": "code",
   "execution_count": null,
   "metadata": {},
   "outputs": [],
   "source": [
    "def red_image(image_red):\n",
    "    plt.imshow(cv2.cvtColor(image_red, cv2.COLOR_BGR2RGB))\n",
    "    plt.title('RED FILTER')\n",
    "    plt.show()"
   ]
  },
  {
   "cell_type": "code",
   "execution_count": null,
   "metadata": {},
   "outputs": [],
   "source": [
    "def green_image(image_green):\n",
    "    plt.imshow(cv2.cvtColor(image_green, cv2.COLOR_BGR2RGB))\n",
    "    plt.title('GREEN FILTER')\n",
    "    plt.show()"
   ]
  },
  {
   "cell_type": "code",
   "execution_count": null,
   "metadata": {},
   "outputs": [],
   "source": [
    "def blue_image(image_blue):\n",
    "    plt.imshow(cv2.cvtColor(image_blue, cv2.COLOR_BGR2RGB))\n",
    "    plt.title('BLUE FILTER')\n",
    "    plt.show()"
   ]
  },
  {
   "cell_type": "code",
   "execution_count": null,
   "metadata": {},
   "outputs": [],
   "source": [
    "def sat_image(image_sat):\n",
    "    plt.imshow(cv2.cvtColor(image_sat, cv2.COLOR_BGR2RGB))\n",
    "    plt.title('SATURATION FILTER')\n",
    "    plt.show()"
   ]
  },
  {
   "cell_type": "code",
   "execution_count": null,
   "metadata": {},
   "outputs": [],
   "source": [
    "def hue_image(image_hue):\n",
    "    plt.imshow(cv2.cvtColor(image_hue, cv2.COLOR_BGR2RGB))\n",
    "    plt.title('HUE FILTER')\n",
    "    plt.show()"
   ]
  },
  {
   "cell_type": "code",
   "execution_count": null,
   "metadata": {},
   "outputs": [],
   "source": [
    "def inv_image(image_inv):\n",
    "    plt.imshow(cv2.cvtColor(image_inv, cv2.COLOR_BGR2RGB))\n",
    "    plt.title('INVERSION FILTER')\n",
    "    plt.show()"
   ]
  },
  {
   "cell_type": "code",
   "execution_count": null,
   "metadata": {},
   "outputs": [],
   "source": [
    "def img_rgb(rgb_img):\n",
    "    plt.imshow(cv2.cvtColor(rgb_img, cv2.COLOR_BGR2RGB))\n",
    "    plt.title('RGB FILTER')\n",
    "    plt.show()"
   ]
  },
  {
   "cell_type": "code",
   "execution_count": null,
   "metadata": {},
   "outputs": [],
   "source": [
    "def inv_sat_img(image_inv_sat):\n",
    "    plt.imshow(cv2.cvtColor(image_inv_sat, cv2.COLOR_BGR2RGB))\n",
    "    plt.title('SATURATION INVERSION FILTER')\n",
    "    plt.show()"
   ]
  },
  {
   "cell_type": "code",
   "execution_count": null,
   "metadata": {},
   "outputs": [],
   "source": [
    "def clahe_image(image_clahe):\n",
    "    plt.imshow(cv2.cvtColor(image_clahe, cv2.COLOR_GRAY2RGB))\n",
    "    plt.title('CLAHE FILTER')\n",
    "    plt.show()"
   ]
  },
  {
   "cell_type": "code",
   "execution_count": null,
   "metadata": {},
   "outputs": [],
   "source": [
    "def cc_image(image_cc):\n",
    "    plt.imshow(cv2.cvtColor(image_cc, cv2.COLOR_BGR2RGB))\n",
    "    plt.title('COMPONENT CONNECTIVITY FILTER (ORIGINAL IMAGE)')\n",
    "    plt.show()"
   ]
  },
  {
   "cell_type": "code",
   "execution_count": null,
   "metadata": {},
   "outputs": [],
   "source": [
    "def cc_black(labels):\n",
    "    plt.imshow(labels, cmap='jet')\n",
    "    plt.title('COMPONENT CONNECTIVITY FILTER (MONOTONOUS BACKGROUND)')\n",
    "    plt.show()"
   ]
  },
  {
   "cell_type": "code",
   "execution_count": null,
   "metadata": {},
   "outputs": [],
   "source": [
    "def cool_img(img_cool):\n",
    "    plt.imshow(img_cool)\n",
    "    plt.title('COOL FILTER')\n",
    "    plt.show()"
   ]
  },
  {
   "cell_type": "code",
   "execution_count": null,
   "metadata": {},
   "outputs": [],
   "source": [
    "def ndvi_img(image_ndvi):\n",
    "    plt.imshow(image_ndvi, cmap='jet')\n",
    "    plt.title('NDVI FILTER')\n",
    "    plt.show()"
   ]
  },
  {
   "cell_type": "code",
   "execution_count": null,
   "metadata": {},
   "outputs": [],
   "source": [
    "def swir_image(image_swir):\n",
    "    plt.imshow(image_swir) #cmap='gray'\n",
    "    plt.title('SWIR FILTER')\n",
    "    plt.show()"
   ]
  },
  {
   "cell_type": "code",
   "execution_count": null,
   "metadata": {},
   "outputs": [],
   "source": [
    "def lwir_image(image_lwir):\n",
    "    plt.imshow(image_lwir)  #cmap gray\n",
    "    plt.title('LWIR FILTER')\n",
    "    plt.show()"
   ]
  },
  {
   "cell_type": "code",
   "execution_count": null,
   "metadata": {},
   "outputs": [],
   "source": [
    "def filt_img(filtered_img):\n",
    "    plt.imshow(filtered_img)\n",
    "    plt.title('PANCHROMATIC FILTER')\n",
    "    plt.show()"
   ]
  },
  {
   "cell_type": "code",
   "execution_count": null,
   "metadata": {},
   "outputs": [],
   "source": [
    "def transmission(transmission):\n",
    "    plt.imshow(transmission)\n",
    "    plt.title('TRANSMISSION FILTER')\n",
    "    plt.show()"
   ]
  },
  {
   "cell_type": "code",
   "execution_count": null,
   "metadata": {},
   "outputs": [],
   "source": [
    "def tc_1(tc_1_norm):\n",
    "    plt.imshow(tc_1_norm)\n",
    "    plt.title('TASSELED CAP FILTER (1)')\n",
    "    plt.show()"
   ]
  },
  {
   "cell_type": "code",
   "execution_count": null,
   "metadata": {},
   "outputs": [],
   "source": [
    "def tc_2(tc_2_norm):\n",
    "    plt.imshow(tc_2_norm)\n",
    "    plt.title('TASSELED CAP FILTER (2)')\n",
    "    plt.show()"
   ]
  },
  {
   "cell_type": "code",
   "execution_count": null,
   "metadata": {},
   "outputs": [],
   "source": [
    "def tc_3(tc_3_norm):\n",
    "    plt.imshow(tc_3_norm)\n",
    "    plt.title('TASSELED CAP FILTER (3)')\n",
    "    plt.show()"
   ]
  },
  {
   "cell_type": "code",
   "execution_count": null,
   "metadata": {},
   "outputs": [],
   "source": [
    "def tc_4(tc_4_norm):\n",
    "    plt.imshow(tc_4_norm)\n",
    "    plt.title('TASSELED CAP FILTER (4)')\n",
    "    plt.show()"
   ]
  },
  {
   "cell_type": "code",
   "execution_count": null,
   "outputs": [],
   "source": [
    "def laplacian_image(image_laplacian):\n",
    "    plt.imshow(image_laplacian)\n",
    "    plt.title('LAPLACIAN FILTER')\n",
    "    plt.show()"
   ],
   "metadata": {
    "collapsed": false
   }
  },
  {
   "cell_type": "code",
   "execution_count": null,
   "outputs": [],
   "source": [
    "def adjusted_image(adjusted_image):\n",
    "    plt.imshow(adjusted_image)\n",
    "    plt.title('AUTO-CONTRAST')\n",
    "    plt.show()"
   ],
   "metadata": {
    "collapsed": false
   }
  },
  {
   "cell_type": "code",
   "execution_count": null,
   "outputs": [],
   "source": [
    "def sobel(sobel):\n",
    "    plt.imshow(sobel)\n",
    "    plt.title(\"SOBEL FILTER\")\n",
    "    plt.show()"
   ],
   "metadata": {
    "collapsed": false
   }
  },
  {
   "cell_type": "code",
   "execution_count": null,
   "outputs": [],
   "source": [
    "show_bgr = mr.Checkbox(value=False, label=\"BGR filter\")\n",
    "\n",
    "if show_bgr.value:\n",
    "    bgr_filter(image)"
   ],
   "metadata": {
    "collapsed": false
   }
  },
  {
   "cell_type": "code",
   "execution_count": null,
   "outputs": [],
   "source": [
    "show_hsv = mr.Checkbox(value=False, label=\"HSV filter\")\n",
    "\n",
    "if show_hsv.value:\n",
    "    hsv_filter(image_hsv)"
   ],
   "metadata": {
    "collapsed": false
   }
  },
  {
   "cell_type": "code",
   "execution_count": null,
   "outputs": [],
   "source": [
    "show_hue = mr.Checkbox(value=False, label=\"HUE filter\")\n",
    "\n",
    "if show_hue.value:\n",
    "    hue_image(image_hue)"
   ],
   "metadata": {
    "collapsed": false
   }
  },
  {
   "cell_type": "code",
   "execution_count": null,
   "outputs": [],
   "source": [
    "show_gray = mr.Checkbox(value=False, label=\"Gray filter\")\n",
    "\n",
    "if show_gray.value:\n",
    "    gray_filter(image_gray)"
   ],
   "metadata": {
    "collapsed": false
   }
  },
  {
   "cell_type": "code",
   "execution_count": null,
   "outputs": [],
   "source": [
    "show_cont = mr.Checkbox(value=False, label=\"Contouring\")\n",
    "\n",
    "if show_cont.value:\n",
    "    contour_image(image_contoured)"
   ],
   "metadata": {
    "collapsed": false
   }
  },
  {
   "cell_type": "code",
   "execution_count": null,
   "outputs": [],
   "source": [
    "show_hp = mr.Checkbox(value=False, label=\"High-pass filter\")\n",
    "\n",
    "if show_hp.value:\n",
    "    hp_image(image_hp)"
   ],
   "metadata": {
    "collapsed": false
   }
  },
  {
   "cell_type": "code",
   "execution_count": null,
   "outputs": [],
   "source": [
    "show_sep = mr.Checkbox(value=False, label=\"Sepia filter\")\n",
    "\n",
    "if show_sep.value:\n",
    "    sepia_image(image_sepia)"
   ],
   "metadata": {
    "collapsed": false
   }
  },
  {
   "cell_type": "code",
   "execution_count": null,
   "outputs": [],
   "source": [
    "show_denoise = mr.Checkbox(value=False, label=\"Denoising\")\n",
    "\n",
    "if show_denoise.value:\n",
    "    denoised_image(image_denoised)"
   ],
   "metadata": {
    "collapsed": false
   }
  },
  {
   "cell_type": "code",
   "execution_count": null,
   "outputs": [],
   "source": [
    "show_RGBsp = mr.Checkbox(value=False, label=\"R, G, B\")\n",
    "\n",
    "if show_RGBsp.value:\n",
    "    red_image(image_red)\n",
    "    green_image(image_green)\n",
    "    blue_image(image_blue)"
   ],
   "metadata": {
    "collapsed": false
   }
  },
  {
   "cell_type": "code",
   "execution_count": null,
   "outputs": [],
   "source": [
    "show_satur = mr.Checkbox(value=False, label=\"Saturation filter\")\n",
    "\n",
    "if show_satur.value:\n",
    "    sat_image(image_sat)"
   ],
   "metadata": {
    "collapsed": false
   }
  },
  {
   "cell_type": "code",
   "execution_count": null,
   "outputs": [],
   "source": [
    "show_invers = mr.Checkbox(value=False, label=\"Inversion filter\")\n",
    "\n",
    "if show_invers.value:\n",
    "    inv_image(image_inv)"
   ],
   "metadata": {
    "collapsed": false
   }
  },
  {
   "cell_type": "code",
   "execution_count": null,
   "outputs": [],
   "source": [
    "show_RGB = mr.Checkbox(value=False, label=\"RGB filter\")\n",
    "\n",
    "if show_RGB.value:\n",
    "    img_rgb(rgb_img)"
   ],
   "metadata": {
    "collapsed": false
   }
  },
  {
   "cell_type": "code",
   "execution_count": null,
   "outputs": [],
   "source": [
    "show_satinv = mr.Checkbox(value=False, label=\"Saturation inversion filter\")\n",
    "\n",
    "if show_satinv.value:\n",
    "    inv_sat_img(image_inv_sat)"
   ],
   "metadata": {
    "collapsed": false
   }
  },
  {
   "cell_type": "code",
   "execution_count": null,
   "outputs": [],
   "source": [
    "show_clahe = mr.Checkbox(value=False, label=\"Clahe filter\")\n",
    "\n",
    "if show_clahe.value:\n",
    "    clahe_image(image_clahe)"
   ],
   "metadata": {
    "collapsed": false
   }
  },
  {
   "cell_type": "code",
   "execution_count": null,
   "outputs": [],
   "source": [
    "show_ccimage = mr.Checkbox(value=False, label=\"Component connectivity filter (on image)\")\n",
    "\n",
    "if show_ccimage.value:\n",
    "    cc_image(image_cc)"
   ],
   "metadata": {
    "collapsed": false
   }
  },
  {
   "cell_type": "code",
   "execution_count": null,
   "outputs": [],
   "source": [
    "show_ccblack = mr.Checkbox(value=False, label=\"Component connectivity filter (on black screen)\")\n",
    "\n",
    "if show_ccblack.value:\n",
    "    cc_black(labels)"
   ],
   "metadata": {
    "collapsed": false
   }
  },
  {
   "cell_type": "code",
   "execution_count": null,
   "outputs": [],
   "source": [
    "show_cool = mr.Checkbox(value=False, label=\"Cool filter\")\n",
    "\n",
    "if show_cool.value:\n",
    "    cool_img(img_cool)"
   ],
   "metadata": {
    "collapsed": false
   }
  },
  {
   "cell_type": "code",
   "execution_count": null,
   "outputs": [],
   "source": [
    "show_ndvi = mr.Checkbox(value=False, label=\"NDVI filter\")\n",
    "\n",
    "if show_ndvi.value:\n",
    "    ndvi_img(image_ndvi)"
   ],
   "metadata": {
    "collapsed": false
   }
  },
  {
   "cell_type": "code",
   "execution_count": null,
   "outputs": [],
   "source": [
    "show_swir = mr.Checkbox(value=False, label=\"SWIR filter\")\n",
    "\n",
    "if show_swir.value:\n",
    "    swir_image(image_swir)"
   ],
   "metadata": {
    "collapsed": false
   }
  },
  {
   "cell_type": "code",
   "execution_count": null,
   "outputs": [],
   "source": [
    "show_lwir = mr.Checkbox(value=False, label=\"LWIR filter\")\n",
    "\n",
    "if show_lwir.value:\n",
    "    lwir_image(image_lwir)"
   ],
   "metadata": {
    "collapsed": false
   }
  },
  {
   "cell_type": "code",
   "execution_count": null,
   "outputs": [],
   "source": [
    "show_panchrom = mr.Checkbox(value=False, label=\"Filtering\")\n",
    "\n",
    "if show_panchrom.value:\n",
    "    filt_img(filtered_img)"
   ],
   "metadata": {
    "collapsed": false
   }
  },
  {
   "cell_type": "code",
   "execution_count": null,
   "outputs": [],
   "source": [
    "show_trans = mr.Checkbox(value=False, label=\"Transmission filter\")\n",
    "\n",
    "if show_trans.value:\n",
    "    transmission(transmission)"
   ],
   "metadata": {
    "collapsed": false
   }
  },
  {
   "cell_type": "code",
   "execution_count": null,
   "outputs": [],
   "source": [
    "show_tc = mr.Checkbox(value=False, label=\"Tasseled cap filters\")\n",
    "\n",
    "if show_tc.value:\n",
    "    tc_1(tc_1_norm)\n",
    "    tc_2(tc_2_norm)\n",
    "    tc_3(tc_3_norm)\n",
    "    tc_4(tc_4_norm)"
   ],
   "metadata": {
    "collapsed": false
   }
  },
  {
   "cell_type": "code",
   "execution_count": null,
   "outputs": [],
   "source": [
    "show_lapl = mr.Checkbox(value=False, label=\"Laplacian filter\")\n",
    "\n",
    "if show_lapl.value:\n",
    "    laplacian_image(image_laplacian)"
   ],
   "metadata": {
    "collapsed": false
   }
  },
  {
   "cell_type": "code",
   "execution_count": null,
   "outputs": [],
   "source": [
    "show_sob = mr.Checkbox(value=False, label=\"Sobel filter\")\n",
    "\n",
    "if show_sob.value:\n",
    "    sobel(sobel)"
   ],
   "metadata": {
    "collapsed": false
   }
  }
 ],
 "metadata": {
  "kernelspec": {
   "display_name": "Python 3 (ipykernel)",
   "language": "python",
   "name": "python3"
  },
  "language_info": {
   "codemirror_mode": {
    "name": "ipython",
    "version": 3
   },
   "file_extension": ".py",
   "mimetype": "text/x-python",
   "name": "python",
   "nbconvert_exporter": "python",
   "pygments_lexer": "ipython3",
   "version": "3.10.0"
  }
 },
 "nbformat": 4,
 "nbformat_minor": 1
}
